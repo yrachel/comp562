{
 "cells": [
  {
   "cell_type": "code",
   "execution_count": null,
   "metadata": {},
   "outputs": [],
   "source": [
    "#data\n",
    "docs = ['Where are you REALLY from?',\n",
    "       'Go back to where you came from!',\n",
    "       'What\\'s my Chinese name?',\n",
    "       'Are you from North or South Korea?',\n",
    "       'They\\'re so pretty for a black person',\n",
    "       'Scientifically speaking, whites are superior to blacks',\n",
    "       'Filipinos, Mexicans, they\\'re all the same!',\n",
    "       'I bet I know Japanese better than you lol',\n",
    "       'You\\re such a banana',\n",
    "       'You don\\'t act black at all, in fact I just think of you as white!',\n",
    "       'Go find a god damned job and learn to speak English or I\\'ll blind you with a piece of dental floss, you slanty-eyed mother fucker',\n",
    "        'Y\\'all are like the good kind of black people!',\n",
    "       'That Jew belongs in an oven.',\n",
    "        'She needs to get her Jap ass out.',\n",
    "       'I love you so much, you\\'re so cool!!!',\n",
    "       'She\\'s such a hard worker, and I really appreciate that.',\n",
    "       'The state of this nation is a travesty and something needs to change.',\n",
    "       'Obama was the greatest president this country has seen.',\n",
    "       'Machine learning is a method of data analysis that automates analytical model building. It is a branch of artificial intelligence based on the idea that systems can learn from data, identify patterns and make decisions with minimal human intervention.',\n",
    "       'I\\'d like a nice bowl of ramen to hit the spot right now!',\n",
    "       'Capitalism is an unsustainable and unjust idea, and we need to make changes before global warming destroys the world.',\n",
    "       'The cutest member of BTS has to be V, but if we\\'re going off sense of humor, Jin. However, if we\\'re considering intellect, RM. Not that you asked but the best dancer is JHOPE and the guy I can\\'t believe is my age is Jungkook.',\n",
    "       'For people who have red-green colorblindness, the colors red and green look exactly the same.',\n",
    "       'We hope to see you again!']\n",
    "\n",
    "#labels\n",
    "labels = np.array([1,1,1,1,1,1,1,1,1,1,1,1,1,1,0,0,0,0,0,0,0,0,0,0])"
   ]
  },
  {
   "cell_type": "code",
   "execution_count": null,
   "metadata": {},
   "outputs": [],
   "source": [
    "from keras.models import Sequential\n",
    "from keras.layers import Dense, Dropout\n",
    "from keras.layers import Embedding\n",
    "from keras.layers import LSTM\n",
    "from keras.layers import Conv1D\n",
    "from keras.preprocessing.text import one_hot\n",
    "from keras.preprocessing.text import hashing_trick\n",
    "from keras.preprocessing.text import text_to_word_sequence\n",
    "from keras.preprocessing.sequence import pad_sequences\n",
    "from keras.callbacks import Callback\n",
    "from sklearn.metrics import confusion_matrix, f1_score, precision_score, recall_score\n",
    "\n",
    "import pandas as pd\n",
    "import numpy as np\n",
    "\n",
    "\n"
   ]
  },
  {
   "cell_type": "code",
   "execution_count": 84,
   "metadata": {},
   "outputs": [],
   "source": [
    "class Metrics(Callback):\n",
    "    def on_train_begin(self, logs={}):\n",
    "        self.val_f1s = []\n",
    "        self.val_recalls = []\n",
    "        self.val_precisions = []\n",
    " \n",
    "    def on_epoch_end(self, epoch, logs={}):\n",
    "        val_predict = (np.asarray(self.model.predict(self.model.validation_data[0]))).round()\n",
    "        val_targ = self.model.validation_data[1]\n",
    "        _val_f1 = f1_score(val_targ, val_predict)\n",
    "        _val_recall = recall_score(val_targ, val_predict)\n",
    "        _val_precision = precision_score(val_targ, val_predict)\n",
    "        self.val_f1s.append(_val_f1)\n",
    "        self.val_recalls.append(_val_recall)\n",
    "        self.val_precisions.append(_val_precision)\n",
    "        print “ — val_f1: %f — val_precision: %f — val_recall %f” %(_val_f1, _val_precision, _val_recall)\n",
    "        return\n",
    " \n",
    "    metrics = Metrics()"
   ]
  },
  {
   "cell_type": "code",
   "execution_count": 88,
   "metadata": {},
   "outputs": [
    {
     "name": "stderr",
     "output_type": "stream",
     "text": [
      "/anaconda3/lib/python3.6/site-packages/ipykernel_launcher.py:10: DeprecationWarning: \n",
      ".ix is deprecated. Please use\n",
      ".loc for label based indexing or\n",
      ".iloc for positional indexing\n",
      "\n",
      "See the documentation here:\n",
      "http://pandas.pydata.org/pandas-docs/stable/indexing.html#ix-indexer-is-deprecated\n",
      "  # Remove the CWD from sys.path while we load stuff.\n",
      "/anaconda3/lib/python3.6/site-packages/ipykernel_launcher.py:11: DeprecationWarning: \n",
      ".ix is deprecated. Please use\n",
      ".loc for label based indexing or\n",
      ".iloc for positional indexing\n",
      "\n",
      "See the documentation here:\n",
      "http://pandas.pydata.org/pandas-docs/stable/indexing.html#ix-indexer-is-deprecated\n",
      "  # This is added back by InteractiveShellApp.init_path()\n",
      "/anaconda3/lib/python3.6/site-packages/ipykernel_launcher.py:13: DeprecationWarning: \n",
      ".ix is deprecated. Please use\n",
      ".loc for label based indexing or\n",
      ".iloc for positional indexing\n",
      "\n",
      "See the documentation here:\n",
      "http://pandas.pydata.org/pandas-docs/stable/indexing.html#ix-indexer-is-deprecated\n",
      "  del sys.path[0]\n",
      "/anaconda3/lib/python3.6/site-packages/ipykernel_launcher.py:14: DeprecationWarning: \n",
      ".ix is deprecated. Please use\n",
      ".loc for label based indexing or\n",
      ".iloc for positional indexing\n",
      "\n",
      "See the documentation here:\n",
      "http://pandas.pydata.org/pandas-docs/stable/indexing.html#ix-indexer-is-deprecated\n",
      "  \n",
      "/anaconda3/lib/python3.6/site-packages/ipykernel_launcher.py:16: DeprecationWarning: \n",
      ".ix is deprecated. Please use\n",
      ".loc for label based indexing or\n",
      ".iloc for positional indexing\n",
      "\n",
      "See the documentation here:\n",
      "http://pandas.pydata.org/pandas-docs/stable/indexing.html#ix-indexer-is-deprecated\n",
      "  app.launch_new_instance()\n",
      "/anaconda3/lib/python3.6/site-packages/ipykernel_launcher.py:17: DeprecationWarning: \n",
      ".ix is deprecated. Please use\n",
      ".loc for label based indexing or\n",
      ".iloc for positional indexing\n",
      "\n",
      "See the documentation here:\n",
      "http://pandas.pydata.org/pandas-docs/stable/indexing.html#ix-indexer-is-deprecated\n"
     ]
    },
    {
     "ename": "NameError",
     "evalue": "name 'metrics' is not defined",
     "output_type": "error",
     "traceback": [
      "\u001b[0;31m---------------------------------------------------------------------------\u001b[0m",
      "\u001b[0;31mNameError\u001b[0m                                 Traceback (most recent call last)",
      "\u001b[0;32m<ipython-input-88-2f4db3666ca0>\u001b[0m in \u001b[0;36m<module>\u001b[0;34m()\u001b[0m\n\u001b[1;32m     41\u001b[0m               \u001b[0moptimizer\u001b[0m\u001b[0;34m=\u001b[0m\u001b[0;34m'rmsprop'\u001b[0m\u001b[0;34m,\u001b[0m\u001b[0;34m\u001b[0m\u001b[0m\n\u001b[1;32m     42\u001b[0m               \u001b[0mmetrics\u001b[0m\u001b[0;34m=\u001b[0m\u001b[0;34m[\u001b[0m\u001b[0;34m'accuracy'\u001b[0m\u001b[0;34m]\u001b[0m\u001b[0;34m,\u001b[0m\u001b[0;34m\u001b[0m\u001b[0m\n\u001b[0;32m---> 43\u001b[0;31m              callbacks=[metrics])\n\u001b[0m\u001b[1;32m     44\u001b[0m \u001b[0;34m\u001b[0m\u001b[0m\n\u001b[1;32m     45\u001b[0m \u001b[0;31m#fit\u001b[0m\u001b[0;34m\u001b[0m\u001b[0;34m\u001b[0m\u001b[0m\n",
      "\u001b[0;31mNameError\u001b[0m: name 'metrics' is not defined"
     ]
    }
   ],
   "source": [
    "#hyperparameters\n",
    "max_features = 3000\n",
    "max_length = 140\n",
    "\n",
    "#split the data into train, test, and validation sets\n",
    "train = pd.read_csv('dennisFiles/data/expert_labeled_tweets.csv')\n",
    "train_portion = train.shape[0]*0.64\n",
    "test_portion = train_portion + train.shape[0]*0.2\n",
    "\n",
    "x_train = train.ix[0:train_portion,0].values\n",
    "y_train = train.ix[0:train_portion,1].values\n",
    "\n",
    "x_test = train.ix[train_portion:test_portion, 0].values\n",
    "y_test = train.ix[train_portion:test_portion, 1].values\n",
    "\n",
    "x_valid = train.ix[test_portion:,0].values\n",
    "y_valid = train.ix[test_portion:,1].values\n",
    "\n",
    "#encode and pad\n",
    "#t = Tokenizer()\n",
    "#t.fit_on_texts(x_train)\n",
    "#encoded_train = t.texts_to_matrix(x_train, mode='count')\n",
    "encoded_train = [hashing_trick(word, len(text_to_word_sequence(word))*1.3, hash_function='md5') for word in x_train]\n",
    "#encoded_train = [one_hot(word, max_features) for word in x_train]\n",
    "padded_train = pad_sequences(encoded_train, maxlen=max_length, padding='post')\n",
    "\n",
    "#encoded_test = t.texts_to_matrix(x_test, mode='count')\n",
    "encoded_test = [hashing_trick(word, len(text_to_word_sequence(word))*1.3, hash_function='md5') for word in x_test]\n",
    "#encoded_test = [one_hot(word, max_features) for word in x_test]\n",
    "padded_test = pad_sequences(encoded_test, maxlen=max_length, padding='post')\n",
    "\n",
    "#shape\n",
    "model = Sequential()\n",
    "model.add(Embedding(max_features, output_dim=256))\n",
    "model.add(LSTM(128))\n",
    "model.add(Dropout(0.5))\n",
    "model.add(Dense(1, activation='sigmoid'))\n",
    "\n",
    "#compile\n",
    "model.compile(loss='binary_crossentropy',\n",
    "              optimizer='rmsprop',\n",
    "              metrics=['accuracy'])\n",
    "\n",
    "#fit\n",
    "model.fit(padded_train, y_train, batch_size=96, epochs=10)\n",
    "score = model.evaluate(padded_test, y_test, batch_size=96)"
   ]
  },
  {
   "cell_type": "code",
   "execution_count": 65,
   "metadata": {},
   "outputs": [
    {
     "name": "stdout",
     "output_type": "stream",
     "text": [
      "[0.20532614721931455, 0.9872611449782256]\n"
     ]
    }
   ],
   "source": [
    "print(score)"
   ]
  },
  {
   "cell_type": "code",
   "execution_count": null,
   "metadata": {},
   "outputs": [],
   "source": []
  }
 ],
 "metadata": {
  "kernelspec": {
   "display_name": "Python 3",
   "language": "python",
   "name": "python3"
  },
  "language_info": {
   "codemirror_mode": {
    "name": "ipython",
    "version": 3
   },
   "file_extension": ".py",
   "mimetype": "text/x-python",
   "name": "python",
   "nbconvert_exporter": "python",
   "pygments_lexer": "ipython3",
   "version": "3.6.5"
  }
 },
 "nbformat": 4,
 "nbformat_minor": 2
}
