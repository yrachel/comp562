{
 "cells": [
  {
   "cell_type": "code",
   "execution_count": null,
   "metadata": {},
   "outputs": [],
   "source": [
    "#data\n",
    "docs = ['Where are you REALLY from?',\n",
    "       'Go back to where you came from!',\n",
    "       'What\\'s my Chinese name?',\n",
    "       'Are you from North or South Korea?',\n",
    "       'They\\'re so pretty for a black person',\n",
    "       'Scientifically speaking, whites are superior to blacks',\n",
    "       'Filipinos, Mexicans, they\\'re all the same!',\n",
    "       'I bet I know Japanese better than you lol',\n",
    "       'You\\re such a banana',\n",
    "       'You don\\'t act black at all, in fact I just think of you as white!',\n",
    "       'Go find a god damned job and learn to speak English or I\\'ll blind you with a piece of dental floss, you slanty-eyed mother fucker',\n",
    "        'Y\\'all are like the good kind of black people!',\n",
    "       'That Jew belongs in an oven.',\n",
    "        'She needs to get her Jap ass out.',\n",
    "       'I love you so much, you\\'re so cool!!!',\n",
    "       'She\\'s such a hard worker, and I really appreciate that.',\n",
    "       'The state of this nation is a travesty and something needs to change.',\n",
    "       'Obama was the greatest president this country has seen.',\n",
    "       'Machine learning is a method of data analysis that automates analytical model building. It is a branch of artificial intelligence based on the idea that systems can learn from data, identify patterns and make decisions with minimal human intervention.',\n",
    "       'I\\'d like a nice bowl of ramen to hit the spot right now!',\n",
    "       'Capitalism is an unsustainable and unjust idea, and we need to make changes before global warming destroys the world.',\n",
    "       'The cutest member of BTS has to be V, but if we\\'re going off sense of humor, Jin. However, if we\\'re considering intellect, RM. Not that you asked but the best dancer is JHOPE and the guy I can\\'t believe is my age is Jungkook.',\n",
    "       'For people who have red-green colorblindness, the colors red and green look exactly the same.',\n",
    "       'We hope to see you again!']\n",
    "\n",
    "#labels\n",
    "labels = np.array([1,1,1,1,1,1,1,1,1,1,1,1,1,1,0,0,0,0,0,0,0,0,0,0])"
   ]
  },
  {
   "cell_type": "code",
   "execution_count": null,
   "metadata": {},
   "outputs": [],
   "source": [
    "from keras.models import Sequential\n",
    "from keras.layers import Dense, Dropout\n",
    "from keras.layers import Embedding\n",
    "from keras.layers import LSTM\n",
    "from keras.preprocessing.text import one_hot\n",
    "from keras.preprocessing.sequence import pad_sequences\n",
    "\n",
    "import pandas as pd\n",
    "import numpy as np\n",
    "\n",
    "#hyperparameters\n",
    "max_features = 10000\n",
    "max_length = 140\n",
    "\n",
    "#data\n",
    "train = pd.read_csv('labeled_data.csv')\n",
    "print('Hello')\n",
    "x_train = train.ix[:,6].values\n",
    "y_train = train.ix[:,5].values\n",
    "\n",
    "#encode\n",
    "encoded_docs = [one_hot(word, max_features) for word in x_train]\n",
    "padded_docs = pad_sequences(encoded_docs, maxlen=max_length, padding='post')\n",
    "\n",
    "#shape\n",
    "model = Sequential()\n",
    "model.add(Embedding(max_features, output_dim=256))\n",
    "model.add(LSTM(128))\n",
    "model.add(Dropout(0.5))\n",
    "model.add(Dense(1, activation='sigmoid'))\n",
    "\n",
    "#compile\n",
    "model.compile(loss='binary_crossentropy',\n",
    "              optimizer='rmsprop',\n",
    "              metrics=['accuracy'])\n",
    "\n",
    "#fit\n",
    "#model.fit(padded_docs, y_train, batch_size=48, epochs=10)\n",
    "#score = model.evaluate(x_test, y_test, batch_size=16)"
   ]
  },
  {
   "cell_type": "code",
   "execution_count": null,
   "metadata": {},
   "outputs": [],
   "source": []
  }
 ],
 "metadata": {
  "kernelspec": {
   "display_name": "Python 3",
   "language": "python",
   "name": "python3"
  },
  "language_info": {
   "codemirror_mode": {
    "name": "ipython",
    "version": 3
   },
   "file_extension": ".py",
   "mimetype": "text/x-python",
   "name": "python",
   "nbconvert_exporter": "python",
   "pygments_lexer": "ipython3",
   "version": "3.6.5"
  }
 },
 "nbformat": 4,
 "nbformat_minor": 2
}
