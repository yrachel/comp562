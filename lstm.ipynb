{
 "cells": [
  {
   "cell_type": "code",
   "execution_count": null,
   "metadata": {},
   "outputs": [],
   "source": [
    "#data\n",
    "docs = ['Where are you REALLY from?',\n",
    "       'Go back to where you came from!',\n",
    "       'What\\'s my Chinese name?',\n",
    "       'Are you from North or South Korea?',\n",
    "       'They\\'re so pretty for a black person',\n",
    "       'Scientifically speaking, whites are superior to blacks',\n",
    "       'Filipinos, Mexicans, they\\'re all the same!',\n",
    "       'I bet I know Japanese better than you lol',\n",
    "       'You\\re such a banana',\n",
    "       'You don\\'t act black at all, in fact I just think of you as white!',\n",
    "       'Go find a god damned job and learn to speak English or I\\'ll blind you with a piece of dental floss, you slanty-eyed mother fucker',\n",
    "        'Y\\'all are like the good kind of black people!',\n",
    "       'That Jew belongs in an oven.',\n",
    "        'She needs to get her Jap ass out.',\n",
    "       'I love you so much, you\\'re so cool!!!',\n",
    "       'She\\'s such a hard worker, and I really appreciate that.',\n",
    "       'The state of this nation is a travesty and something needs to change.',\n",
    "       'Obama was the greatest president this country has seen.',\n",
    "       'Machine learning is a method of data analysis that automates analytical model building. It is a branch of artificial intelligence based on the idea that systems can learn from data, identify patterns and make decisions with minimal human intervention.',\n",
    "       'I\\'d like a nice bowl of ramen to hit the spot right now!',\n",
    "       'Capitalism is an unsustainable and unjust idea, and we need to make changes before global warming destroys the world.',\n",
    "       'The cutest member of BTS has to be V, but if we\\'re going off sense of humor, Jin. However, if we\\'re considering intellect, RM. Not that you asked but the best dancer is JHOPE and the guy I can\\'t believe is my age is Jungkook.',\n",
    "       'For people who have red-green colorblindness, the colors red and green look exactly the same.',\n",
    "       'We hope to see you again!']\n",
    "\n",
    "#labels\n",
    "labels = np.array([1,1,1,1,1,1,1,1,1,1,1,1,1,1,0,0,0,0,0,0,0,0,0,0])"
   ]
  },
  {
   "cell_type": "code",
   "execution_count": 13,
   "metadata": {},
   "outputs": [
    {
     "name": "stderr",
     "output_type": "stream",
     "text": [
      "/anaconda3/lib/python3.6/site-packages/ipykernel_launcher.py:20: DeprecationWarning: \n",
      ".ix is deprecated. Please use\n",
      ".loc for label based indexing or\n",
      ".iloc for positional indexing\n",
      "\n",
      "See the documentation here:\n",
      "http://pandas.pydata.org/pandas-docs/stable/indexing.html#ix-indexer-is-deprecated\n",
      "/anaconda3/lib/python3.6/site-packages/ipykernel_launcher.py:21: DeprecationWarning: \n",
      ".ix is deprecated. Please use\n",
      ".loc for label based indexing or\n",
      ".iloc for positional indexing\n",
      "\n",
      "See the documentation here:\n",
      "http://pandas.pydata.org/pandas-docs/stable/indexing.html#ix-indexer-is-deprecated\n",
      "/anaconda3/lib/python3.6/site-packages/ipykernel_launcher.py:23: DeprecationWarning: \n",
      ".ix is deprecated. Please use\n",
      ".loc for label based indexing or\n",
      ".iloc for positional indexing\n",
      "\n",
      "See the documentation here:\n",
      "http://pandas.pydata.org/pandas-docs/stable/indexing.html#ix-indexer-is-deprecated\n",
      "/anaconda3/lib/python3.6/site-packages/ipykernel_launcher.py:24: DeprecationWarning: \n",
      ".ix is deprecated. Please use\n",
      ".loc for label based indexing or\n",
      ".iloc for positional indexing\n",
      "\n",
      "See the documentation here:\n",
      "http://pandas.pydata.org/pandas-docs/stable/indexing.html#ix-indexer-is-deprecated\n",
      "/anaconda3/lib/python3.6/site-packages/ipykernel_launcher.py:26: DeprecationWarning: \n",
      ".ix is deprecated. Please use\n",
      ".loc for label based indexing or\n",
      ".iloc for positional indexing\n",
      "\n",
      "See the documentation here:\n",
      "http://pandas.pydata.org/pandas-docs/stable/indexing.html#ix-indexer-is-deprecated\n",
      "/anaconda3/lib/python3.6/site-packages/ipykernel_launcher.py:27: DeprecationWarning: \n",
      ".ix is deprecated. Please use\n",
      ".loc for label based indexing or\n",
      ".iloc for positional indexing\n",
      "\n",
      "See the documentation here:\n",
      "http://pandas.pydata.org/pandas-docs/stable/indexing.html#ix-indexer-is-deprecated\n"
     ]
    },
    {
     "name": "stdout",
     "output_type": "stream",
     "text": [
      "Epoch 1/10\n",
      "15862/15862 [==============================] - 51s 3ms/step - loss: -1.5932 - acc: 0.7647\n",
      "Epoch 2/10\n",
      "15862/15862 [==============================] - 54s 3ms/step - loss: -1.6340 - acc: 0.7659\n",
      "Epoch 3/10\n",
      "15862/15862 [==============================] - 52s 3ms/step - loss: -1.6342 - acc: 0.7659\n",
      "Epoch 4/10\n",
      "15862/15862 [==============================] - 50s 3ms/step - loss: -1.6341 - acc: 0.7659\n",
      "Epoch 5/10\n",
      "15862/15862 [==============================] - 49s 3ms/step - loss: -1.6342 - acc: 0.7659\n",
      "Epoch 6/10\n",
      "15862/15862 [==============================] - 53s 3ms/step - loss: -1.6342 - acc: 0.7659\n",
      "Epoch 7/10\n",
      "15862/15862 [==============================] - 58s 4ms/step - loss: -1.6342 - acc: 0.7659\n",
      "Epoch 8/10\n",
      "15862/15862 [==============================] - 54s 3ms/step - loss: -1.6342 - acc: 0.7659\n",
      "Epoch 9/10\n",
      "15862/15862 [==============================] - 57s 4ms/step - loss: -1.6342 - acc: 0.7659\n",
      "Epoch 10/10\n",
      "15862/15862 [==============================] - 61s 4ms/step - loss: -1.6342 - acc: 0.7659\n",
      "4956/4956 [==============================] - 6s 1ms/step\n"
     ]
    }
   ],
   "source": [
    "from keras.models import Sequential\n",
    "from keras.layers import Dense, Dropout\n",
    "from keras.layers import Embedding\n",
    "from keras.layers import LSTM\n",
    "from keras.preprocessing.text import one_hot\n",
    "from keras.preprocessing.sequence import pad_sequences\n",
    "\n",
    "import pandas as pd\n",
    "import numpy as np\n",
    "\n",
    "#hyperparameters\n",
    "max_features = 1000\n",
    "max_length = 140\n",
    "\n",
    "#split the data into train, test, and validation sets\n",
    "train = pd.read_csv('labeled_data.csv')\n",
    "train_portion = train.shape[0]*0.64\n",
    "test_portion = train_portion + train.shape[0]*0.2\n",
    "\n",
    "x_train = train.ix[0:train_portion,6].values\n",
    "y_train = train.ix[0:train_portion,5].values\n",
    "\n",
    "x_test = train.ix[train_portion:test_portion, 6].values\n",
    "y_test = train.ix[train_portion:test_portion, 5].values\n",
    "\n",
    "x_valid = train.ix[test_portion:,6].values\n",
    "y_valid = train.ix[test_portion:,5].values\n",
    "\n",
    "#encode and pad\n",
    "encoded_train = [one_hot(word, max_features) for word in x_train]\n",
    "padded_train = pad_sequences(encoded_train, maxlen=max_length, padding='post')\n",
    "\n",
    "encoded_test = [one_hot(word, max_features) for word in x_test]\n",
    "padded_test = pad_sequences(encoded_test, maxlen=max_length, padding='post')\n",
    "\n",
    "#shape\n",
    "model = Sequential()\n",
    "model.add(Embedding(max_features, output_dim=256))\n",
    "model.add(LSTM(128))\n",
    "model.add(Dropout(0.5))\n",
    "model.add(Dense(1, activation='sigmoid'))\n",
    "\n",
    "#compile\n",
    "model.compile(loss='binary_crossentropy',\n",
    "              optimizer='rmsprop',\n",
    "              metrics=['accuracy'])\n",
    "\n",
    "#fit\n",
    "model.fit(padded_train, y_train, batch_size=48, epochs=10)\n",
    "score = model.evaluate(padded_test, y_test, batch_size=48)"
   ]
  },
  {
   "cell_type": "code",
   "execution_count": 14,
   "metadata": {},
   "outputs": [
    {
     "name": "stdout",
     "output_type": "stream",
     "text": [
      "[-2.1809800137811557, 0.7857142845597164]\n"
     ]
    }
   ],
   "source": [
    "print(score)"
   ]
  },
  {
   "cell_type": "code",
   "execution_count": null,
   "metadata": {},
   "outputs": [],
   "source": []
  }
 ],
 "metadata": {
  "kernelspec": {
   "display_name": "Python 3",
   "language": "python",
   "name": "python3"
  },
  "language_info": {
   "codemirror_mode": {
    "name": "ipython",
    "version": 3
   },
   "file_extension": ".py",
   "mimetype": "text/x-python",
   "name": "python",
   "nbconvert_exporter": "python",
   "pygments_lexer": "ipython3",
   "version": "3.6.5"
  }
 },
 "nbformat": 4,
 "nbformat_minor": 2
}
