{
 "cells": [
  {
   "cell_type": "code",
   "execution_count": null,
   "metadata": {
    "collapsed": true
   },
   "outputs": [],
   "source": [
    "#data\n",
    "docs = ['Where are you REALLY from?',\n",
    "       'Go back to where you came from!',\n",
    "       'What\\'s my Chinese name?',\n",
    "       'Are you from North or South Korea?',\n",
    "       'They\\'re so pretty for a black person',\n",
    "       'Scientifically speaking, whites are superior to blacks',\n",
    "       'Filipinos, Mexicans, they\\'re all the same!',\n",
    "       'I bet I know Japanese better than you lol',\n",
    "       'You\\re such a banana',\n",
    "       'You don\\'t act black at all, in fact I just think of you as white!',\n",
    "       'Go find a god damned job and learn to speak English or I\\'ll blind you with a piece of dental floss, you slanty-eyed mother fucker',\n",
    "        'Y\\'all are like the good kind of black people!',\n",
    "       'That Jew belongs in an oven.',\n",
    "        'She needs to get her Jap ass out.',\n",
    "       'I love you so much, you\\'re so cool!!!',\n",
    "       'She\\'s such a hard worker, and I really appreciate that.',\n",
    "       'The state of this nation is a travesty and something needs to change.',\n",
    "       'Obama was the greatest president this country has seen.',\n",
    "       'Machine learning is a method of data analysis that automates analytical model building. It is a branch of artificial intelligence based on the idea that systems can learn from data, identify patterns and make decisions with minimal human intervention.',\n",
    "       'I\\'d like a nice bowl of ramen to hit the spot right now!',\n",
    "       'Capitalism is an unsustainable and unjust idea, and we need to make changes before global warming destroys the world.',\n",
    "       'The cutest member of BTS has to be V, but if we\\'re going off sense of humor, Jin. However, if we\\'re considering intellect, RM. Not that you asked but the best dancer is JHOPE and the guy I can\\'t believe is my age is Jungkook.',\n",
    "       'For people who have red-green colorblindness, the colors red and green look exactly the same.',\n",
    "       'We hope to see you again!']\n",
    "\n",
    "#labels\n",
    "labels = np.array([1,1,1,1,1,1,1,1,1,1,1,1,1,1,0,0,0,0,0,0,0,0,0,0])"
   ]
  },
  {
   "cell_type": "code",
   "execution_count": 37,
   "metadata": {},
   "outputs": [],
   "source": [
    "from keras.models import Sequential\n",
    "from keras.layers import Dense, Dropout\n",
    "from keras.layers import Embedding\n",
    "from keras.layers import LSTM\n",
    "from keras.layers import Conv1D\n",
    "from keras.preprocessing.text import one_hot\n",
    "from keras.preprocessing.text import hashing_trick\n",
    "from keras.preprocessing.text import text_to_word_sequence\n",
    "from keras.preprocessing.sequence import pad_sequences\n",
    "from keras.callbacks import Callback\n",
    "from sklearn.metrics import classification_report\n",
    "\n",
    "import matplotlib.pyplot as plt\n",
    "import csv\n",
    "import pandas as pd\n",
    "import numpy as np"
   ]
  },
  {
   "cell_type": "code",
   "execution_count": 82,
   "metadata": {
    "scrolled": true
   },
   "outputs": [
    {
     "name": "stdout",
     "output_type": "stream",
     "text": [
      "Epoch 1/5\n",
      "4020/4020 [==============================] - 55s 14ms/step - loss: 0.6940 - acc: 0.5129\n",
      "Epoch 2/5\n",
      "4020/4020 [==============================] - 52s 13ms/step - loss: 0.6920 - acc: 0.5291\n",
      "Epoch 3/5\n",
      "4020/4020 [==============================] - 50s 13ms/step - loss: 0.6922 - acc: 0.5271\n",
      "Epoch 4/5\n",
      "4020/4020 [==============================] - 52s 13ms/step - loss: 0.6921 - acc: 0.5244\n",
      "Epoch 5/5\n",
      "4020/4020 [==============================] - 51s 13ms/step - loss: 0.6915 - acc: 0.5269\n"
     ]
    },
    {
     "data": {
      "text/plain": [
       "<keras.callbacks.History at 0x1699a758e48>"
      ]
     },
     "execution_count": 82,
     "metadata": {},
     "output_type": "execute_result"
    }
   ],
   "source": [
    "#hyperparameters\n",
    "max_features = 10000\n",
    "max_length = 300\n",
    "\n",
    "#split the data into train, test, and validation sets\n",
    "x = np.array(pd.read_csv('dennisFiles/data/modified_expert_labeled_tweets.csv', usecols=[0]).values)\n",
    "y = np.array(pd.read_csv('dennisFiles/data/modified_expert_labeled_tweets.csv', usecols=[1]).values)\n",
    "\n",
    "x = np.array([ele[0] for ele in x])\n",
    "y = np.array([ele[0] for ele in y])\n",
    "\n",
    "#encode and pad\n",
    "#t = Tokenizer()\n",
    "#t.fit_on_texts(x_train)\n",
    "#encoded_train = t.texts_to_matrix(x_train, mode='count')\n",
    "#encoded_train = [hashing_trick(word, len(text_to_word_sequence(word))*1.3, hash_function='md5') for word in x_train]\n",
    "encoded = [one_hot(word, max_features) for word in x]\n",
    "padded = pad_sequences(encoded, maxlen=max_length, padding='post')\n",
    "\n",
    "#split\n",
    "train_portion = int(x.shape[0]*0.64)\n",
    "test_portion = train_portion + int(x.shape[0]*0.2)\n",
    "\n",
    "x_train = padded[0:train_portion]\n",
    "y_train = y[0:train_portion]\n",
    "\n",
    "x_test = padded[train_portion:test_portion]\n",
    "y_test = y[train_portion:test_portion]\n",
    "\n",
    "x_valid = padded[test_portion:]\n",
    "y_valid = y[test_portion:]\n",
    "\n",
    "#shape\n",
    "model = Sequential()\n",
    "model.add(Embedding(max_features, output_dim=256))\n",
    "model.add(LSTM(128))\n",
    "model.add(Dropout(0.5))\n",
    "model.add(Dense(1, activation='sigmoid'))\n",
    "\n",
    "#compile\n",
    "model.compile(loss='binary_crossentropy',\n",
    "              optimizer='rmsprop',\n",
    "              metrics=['accuracy'])\n",
    "\n",
    "#fit\n",
    "model.fit(x_train, y_train, batch_size=1024, epochs=5)\n",
    "#score = model.evaluate(padded_test, y_test, batch_size=96)"
   ]
  },
  {
   "cell_type": "code",
   "execution_count": 83,
   "metadata": {},
   "outputs": [
    {
     "name": "stdout",
     "output_type": "stream",
     "text": [
      "{0}\n",
      "             precision    recall  f1-score   support\n",
      "\n",
      "          0       0.00      0.00      0.00      1240\n",
      "          1       0.01      1.00      0.03        16\n",
      "\n",
      "avg / total       0.00      0.01      0.00      1256\n",
      "\n"
     ]
    },
    {
     "name": "stderr",
     "output_type": "stream",
     "text": [
      "C:\\ProgramData\\Anaconda3\\lib\\site-packages\\sklearn\\metrics\\classification.py:1135: UndefinedMetricWarning: Precision and F-score are ill-defined and being set to 0.0 in labels with no predicted samples.\n",
      "  'precision', 'predicted', average, warn_for)\n"
     ]
    }
   ],
   "source": [
    "#test = pd.read_csv('dennisFiles/data/modified_expert_labeled_tweets.csv')\n",
    "\n",
    "#x_test = test.ix[:, 0].values\n",
    "#y_test = test.ix[:, 1].values\n",
    "\n",
    "#encoded_test = t.texts_to_matrix(x_test, mode='count')\n",
    "#encoded_test = [hashing_trick(word, len(text_to_word_sequence(word))*1.3, hash_function='md5') for word in x_test]\n",
    "#encoded_test = [one_hot(word, max_features) for word in x_test]\n",
    "#padded_test = pad_sequences(encoded_test, maxlen=max_length, padding='post')\n",
    "\n",
    "y_pred = [1 if element >= 0.5 else 0 for element in model.predict(x_test)]\n",
    "print(set(y_test)-set(y_pred))\n",
    "print(classification_report(y_test, y_pred))"
   ]
  },
  {
   "cell_type": "code",
   "execution_count": 47,
   "metadata": {},
   "outputs": [
    {
     "data": {
      "image/png": "[encoded data removed]",
      "text/plain": [
       "<matplotlib.figure.Figure at 0x1699a7565c0>"
      ]
     },
     "metadata": {},
     "output_type": "display_data"
    }
   ],
   "source": [
    "results = model.predict(padded_test)\n",
    "plt.scatter(range(len(results)),results,c='r')\n",
    "plt.scatter(range(len(y_test)),y_test,c='g')\n",
    "plt.show()"
   ]
  },
  {
   "cell_type": "code",
   "execution_count": 49,
   "metadata": {},
   "outputs": [],
   "source": [
    "\n",
    "with open('dennisFiles/data/test.csv', mode='a') as outputcsv: \n",
    "    writeCSV = csv.writer(outputcsv, delimiter=',', quotechar='\"', quoting=csv.QUOTE_MINIMAL, lineterminator = '\\n')\n",
    "    for row in encoded_test:\n",
    "        writeCSV.writerow(row)"
   ]
  }
 ],
 "metadata": {
  "kernelspec": {
   "display_name": "Python 3",
   "language": "python",
   "name": "python3"
  },
  "language_info": {
   "codemirror_mode": {
    "name": "ipython",
    "version": 3
   },
   "file_extension": ".py",
   "mimetype": "text/x-python",
   "name": "python",
   "nbconvert_exporter": "python",
   "pygments_lexer": "ipython3",
   "version": "3.6.3"
  }
 },
 "nbformat": 4,
 "nbformat_minor": 2
}
